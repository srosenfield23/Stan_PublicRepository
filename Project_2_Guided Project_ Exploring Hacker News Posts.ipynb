{
 "cells": [
  {
   "cell_type": "markdown",
   "metadata": {},
   "source": [
    "\n",
    "### Exploring Hackers News Posts\n",
    "\n",
    "In this project, we'll compare two different types of posts from Hacker News, a popular site where technology related stories (or 'posts') are voted and commented upon. The two types of posts we'll explore begin with either Ask HN or Show HN.\n",
    "\n",
    "Users submit Ask HN posts to ask the Hacker News community a specific question, such as \"What is the best online course you've ever taken?\" Likewise, users submit Show HN posts to show the Hacker News community a project, product, or just generally something interesting.\n",
    "\n",
    "We'll specifically compare these two types of posts to determine the following:\n",
    "\n",
    "     - Do Ask HN or Show HN receive more comments on average?\n",
    "     - Do posts created at a certain time receive more comments on average?\n",
    "\n",
    "It should be noted that the data set we're working with was reduced from almost 300,000 rows to approximately 20,000 rows by removing all submissions that did not receive any comments, and then randomly sampling from the remaining submissions.\n",
    "\n",
    "### Introduction\n",
    "\n",
    "First, we'll read in the data and remove the headers.\n"
   ]
  },
  {
   "cell_type": "code",
   "execution_count": 1,
   "metadata": {
    "collapsed": false
   },
   "outputs": [
    {
     "data": {
      "text/plain": [
       "[['id', 'title', 'url', 'num_points', 'num_comments', 'author', 'created_at'],\n",
       " ['12224879',\n",
       "  'Interactive Dynamic Video',\n",
       "  'http://www.interactivedynamicvideo.com/',\n",
       "  '386',\n",
       "  '52',\n",
       "  'ne0phyte',\n",
       "  '8/4/2016 11:52'],\n",
       " ['10975351',\n",
       "  'How to Use Open Source and Shut the Fuck Up at the Same Time',\n",
       "  'http://hueniverse.com/2016/01/26/how-to-use-open-source-and-shut-the-fuck-up-at-the-same-time/',\n",
       "  '39',\n",
       "  '10',\n",
       "  'josep2',\n",
       "  '1/26/2016 19:30'],\n",
       " ['11964716',\n",
       "  \"Florida DJs May Face Felony for April Fools' Water Joke\",\n",
       "  'http://www.thewire.com/entertainment/2013/04/florida-djs-april-fools-water-joke/63798/',\n",
       "  '2',\n",
       "  '1',\n",
       "  'vezycash',\n",
       "  '6/23/2016 22:20'],\n",
       " ['11919867',\n",
       "  'Technology ventures: From Idea to Enterprise',\n",
       "  'https://www.amazon.com/Technology-Ventures-Enterprise-Thomas-Byers/dp/0073523429',\n",
       "  '3',\n",
       "  '1',\n",
       "  'hswarna',\n",
       "  '6/17/2016 0:01']]"
      ]
     },
     "execution_count": 1,
     "metadata": {},
     "output_type": "execute_result"
    }
   ],
   "source": [
    "# opening and reading in the csv file, as a list of lists:\n",
    "import csv\n",
    "\n",
    "f = open('hacker_news.csv')#reading the hacker_news.csv file in as a list of lists\n",
    "hn = list(csv.reader(f))#converting reader method into a list of lists, assigning variable\n",
    "hn[:5] #displaying the first five rows of hn of list of lists"
   ]
  },
  {
   "cell_type": "markdown",
   "metadata": {},
   "source": [
    "### Removing Headers from a List of Lists"
   ]
  },
  {
   "cell_type": "code",
   "execution_count": 2,
   "metadata": {
    "collapsed": false
   },
   "outputs": [
    {
     "name": "stdout",
     "output_type": "stream",
     "text": [
      "['id', 'title', 'url', 'num_points', 'num_comments', 'author', 'created_at']\n",
      "\n",
      "[['12224879', 'Interactive Dynamic Video', 'http://www.interactivedynamicvideo.com/', '386', '52', 'ne0phyte', '8/4/2016 11:52'], ['10975351', 'How to Use Open Source and Shut the Fuck Up at the Same Time', 'http://hueniverse.com/2016/01/26/how-to-use-open-source-and-shut-the-fuck-up-at-the-same-time/', '39', '10', 'josep2', '1/26/2016 19:30'], ['11964716', \"Florida DJs May Face Felony for April Fools' Water Joke\", 'http://www.thewire.com/entertainment/2013/04/florida-djs-april-fools-water-joke/63798/', '2', '1', 'vezycash', '6/23/2016 22:20'], ['11919867', 'Technology ventures: From Idea to Enterprise', 'https://www.amazon.com/Technology-Ventures-Enterprise-Thomas-Byers/dp/0073523429', '3', '1', 'hswarna', '6/17/2016 0:01'], ['10301696', 'Note by Note: The Making of Steinway L1037 (2007)', 'http://www.nytimes.com/2007/11/07/movies/07stein.html?_r=0', '8', '2', 'walterbell', '9/30/2015 4:12']]\n"
     ]
    }
   ],
   "source": [
    "headers = hn[0] #display header row only\n",
    "hn = hn[1:] #removing the headers row\n",
    "print(headers)#display the headers row only\n",
    "print() # display an empty line for readabilty\n",
    "print(hn[:5]) #display the first five rows to verify header row removed"
   ]
  },
  {
   "cell_type": "markdown",
   "metadata": {},
   "source": [
    "We can see above that the data set contains the title of the posts, the number of comments for each post, and the date the post was created. Let's start by exploring the number of comments for each type of post.\n",
    "\n",
    "### Extracting Ask HN and Show HN Posts\n",
    "\n",
    "First, we'll identify posts that begin with either Ask HN or Show HN and separate the data for those two types of posts into different lists. Separating the data makes it easier to analyze in the following steps.\n"
   ]
  },
  {
   "cell_type": "code",
   "execution_count": 3,
   "metadata": {
    "collapsed": false
   },
   "outputs": [
    {
     "name": "stdout",
     "output_type": "stream",
     "text": [
      "1744\n",
      "1162\n",
      "17194\n"
     ]
    }
   ],
   "source": [
    "# Identify posts that begin with either `Ask HN` or `Show HN` and separate the data into different lists.\n",
    "#Create three empty lists\n",
    "ask_posts = []\n",
    "show_posts = [] \n",
    "other_posts = []\n",
    "\n",
    "for post in hn: #loop through each row in hn\n",
    "    title = post[1] #assign the title column to a variable name: title\n",
    "    if title.lower() .startswith(\"ask hn\"):\n",
    "        ask_posts.append(post)\n",
    "    elif title.lower().startswith('show hn'):\n",
    "        show_posts.append(post)\n",
    "    else:\n",
    "        other_posts.append(post)\n",
    "\n",
    "#Check the number of posts in each list        \n",
    "print(len(ask_posts))\n",
    "print(len(show_posts))\n",
    "print(len(other_posts))\n"
   ]
  },
  {
   "cell_type": "markdown",
   "metadata": {},
   "source": [
    "### Calculating the Average Number of Comments for Ask HN and Show HN Posts\n",
    "\n",
    "Now that we separated ask posts and show posts into different lists, we'll calculate the average number of comments each type of post receives."
   ]
  },
  {
   "cell_type": "markdown",
   "metadata": {},
   "source": [
    "\n",
    "### Calculating the Average Number of Comments for Ask HN and Show HN Posts\n",
    "\n",
    "Now that we separated ask posts and show posts into different lists, we'll calculate the average number of comments each type of post receives.\n"
   ]
  },
  {
   "cell_type": "code",
   "execution_count": 4,
   "metadata": {
    "collapsed": false
   },
   "outputs": [
    {
     "name": "stdout",
     "output_type": "stream",
     "text": [
      "avg_ask_comments: 14.038417431192661\n",
      "avg_show_comments: 10.31669535283993\n"
     ]
    }
   ],
   "source": [
    "# Calculate the average number of comments `Ask HN` posts receive:\n",
    "\n",
    "tac = total_ask_comments = 0\n",
    "\n",
    "for post in ask_posts: #loop to iterate over the ask posts\n",
    "    tac += int(post[4]) #convert the value to integer to calculate the sum\n",
    "\n",
    "#Compute the average number of comments and display the results:\n",
    "aac = avg_ask_comments = tac / len(ask_posts)\n",
    "print(\"avg_ask_comments:\", aac)\n",
    "\n",
    "#===================\n",
    "\n",
    "# Calculate the average number of comments `Show HN` posts receive:\n",
    "\n",
    "tsc = total_show_comments = 0\n",
    "\n",
    "for post in show_posts:\n",
    "    tsc += int(post[4])\n",
    "\n",
    "asc = avg_show_comments = tsc / len(show_posts)\n",
    "print(\"avg_show_comments:\", asc)\n"
   ]
  },
  {
   "cell_type": "markdown",
   "metadata": {},
   "source": [
    "On average, ask posts in our sample receive approximately 14 comments, whereas show posts receive approximately 10. Since ask posts are more likely to receive comments, we'll focus our remaining analysis just on these posts.\n",
    "\n",
    "### Finding the Amount of Ask Posts and Comments by Hour Created\n",
    "\n",
    "Next, we'll determine if we can maximize the amount of comments an ask post receives by creating it at a certain time. First, we'll find the amount of ask posts created during each hour of day, along with the number of comments those posts received. Then, we'll calculate the average amount of comments ask posts created at each hour of the day receive.\n"
   ]
  },
  {
   "cell_type": "code",
   "execution_count": 5,
   "metadata": {
    "collapsed": false
   },
   "outputs": [
    {
     "data": {
      "text/plain": [
       "{'00': 447,\n",
       " '01': 683,\n",
       " '02': 1381,\n",
       " '03': 421,\n",
       " '04': 337,\n",
       " '05': 464,\n",
       " '06': 397,\n",
       " '07': 267,\n",
       " '08': 492,\n",
       " '09': 251,\n",
       " '10': 793,\n",
       " '11': 641,\n",
       " '12': 687,\n",
       " '13': 1253,\n",
       " '14': 1416,\n",
       " '15': 4477,\n",
       " '16': 1814,\n",
       " '17': 1146,\n",
       " '18': 1439,\n",
       " '19': 1188,\n",
       " '20': 1722,\n",
       " '21': 1745,\n",
       " '22': 479,\n",
       " '23': 543}"
      ]
     },
     "execution_count": 5,
     "metadata": {},
     "output_type": "execute_result"
    }
   ],
   "source": [
    "# Calculate the amount of ask posts created during each hour of day,\n",
    "# and the number of comments received.\n",
    "\n",
    "import datetime as dt #bring into the environment the datetime module, and use alias: dt\n",
    "\n",
    "result_list = [] #stores list\n",
    "\n",
    "for post in ask_posts: #iterate through the ask_posts list to build a result_list\n",
    "    result_list.append(\n",
    "        [post[6], int(post[4])]\n",
    "    )\n",
    "#first element is time: created at, index 6; and second element is: number of comments, index 4\n",
    "\n",
    "comments_by_hour = {}#create empty 'comments_by_hour' dictionary to store comments by hour key-pair\n",
    "counts_by_hour = {}#create empty'counts_by_hour' dictionary to store to store counts by hour key-pair\n",
    "date_format = \"%m/%d/%Y %H:%M\" #date format in 'created at' column\n",
    "\n",
    "#calculates the total number of Ask Post comments by hour, by rows of the Created Date value\n",
    "for each_row in result_list: #iterates through each element of row in result_list\n",
    "    date = each_row[0] #stores first element in result_list\n",
    "    comment = each_row[1] #stores second element in result_list\n",
    "    time = dt.datetime.strptime(date, date_format).strftime(\"%H\") #extracts hour from the date\n",
    "    if time in counts_by_hour: #if key is present in dictionary counts_by_hour\n",
    "        comments_by_hour[time] += comment #then hour key is stored as 2nd element in dictionary\n",
    "        counts_by_hour[time] += 1 #increment the key counter by its current counter value + 1\n",
    "    else: #key is not present in dictionary\n",
    "        comments_by_hour[time] = comment #then hour key is stored as 2nd element in dictionary\n",
    "        counts_by_hour[time] = 1 #increment the key counter by value of 1\n",
    "\n",
    "comments_by_hour #displays 'comments_by_hour' received in key-pair dictionary format\n",
    "#comments_by_hour: contains the corresponding number of comments \"ask posts\" created at each hour received."
   ]
  },
  {
   "cell_type": "markdown",
   "metadata": {},
   "source": [
    "### Calculating the Average Number of Comments for Ask HN Posts by Hour"
   ]
  },
  {
   "cell_type": "code",
   "execution_count": 6,
   "metadata": {
    "collapsed": false
   },
   "outputs": [
    {
     "data": {
      "text/plain": [
       "[['11', 11.051724137931034],\n",
       " ['23', 7.985294117647059],\n",
       " ['10', 13.440677966101696],\n",
       " ['07', 7.852941176470588],\n",
       " ['05', 10.08695652173913],\n",
       " ['08', 10.25],\n",
       " ['15', 38.5948275862069],\n",
       " ['04', 7.170212765957447],\n",
       " ['19', 10.8],\n",
       " ['21', 16.009174311926607],\n",
       " ['17', 11.46],\n",
       " ['03', 7.796296296296297],\n",
       " ['00', 8.127272727272727],\n",
       " ['20', 21.525],\n",
       " ['06', 9.022727272727273],\n",
       " ['18', 13.20183486238532],\n",
       " ['14', 13.233644859813085],\n",
       " ['12', 9.41095890410959],\n",
       " ['01', 11.383333333333333],\n",
       " ['22', 6.746478873239437],\n",
       " ['09', 5.5777777777777775],\n",
       " ['13', 14.741176470588234],\n",
       " ['02', 23.810344827586206],\n",
       " ['16', 16.796296296296298]]"
      ]
     },
     "execution_count": 6,
     "metadata": {},
     "output_type": "execute_result"
    }
   ],
   "source": [
    "#Calculate the average amount of comments `Ask HN` posts created at each hour of the day received.\n",
    "\n",
    "avg_by_hour = [] #Initialized an empty list (of lists) and assigned it to avg_by_hour\n",
    "\n",
    "for hr in comments_by_hour: #Iterate over the keys(0-23) in comments_by_hour dictionary\n",
    "    avg_by_hour.append([hr, comments_by_hour[hr] / counts_by_hour[hr]]) #calculate avg_by_hour\n",
    "    \n",
    "avg_by_hour #display results in a list of lists, named avg_by_hour:  "
   ]
  },
  {
   "cell_type": "markdown",
   "metadata": {},
   "source": [
    "### Sorting and Printing Values from a List of Lists"
   ]
  },
  {
   "cell_type": "code",
   "execution_count": 7,
   "metadata": {
    "collapsed": false
   },
   "outputs": [
    {
     "name": "stdout",
     "output_type": "stream",
     "text": [
      "[[11.051724137931034, '11'], [7.985294117647059, '23'], [13.440677966101696, '10'], [7.852941176470588, '07'], [10.08695652173913, '05'], [10.25, '08'], [38.5948275862069, '15'], [7.170212765957447, '04'], [10.8, '19'], [16.009174311926607, '21'], [11.46, '17'], [7.796296296296297, '03'], [8.127272727272727, '00'], [21.525, '20'], [9.022727272727273, '06'], [13.20183486238532, '18'], [13.233644859813085, '14'], [9.41095890410959, '12'], [11.383333333333333, '01'], [6.746478873239437, '22'], [5.5777777777777775, '09'], [14.741176470588234, '13'], [23.810344827586206, '02'], [16.796296296296298, '16']]\n"
     ]
    },
    {
     "data": {
      "text/plain": [
       "[[38.5948275862069, '15'],\n",
       " [23.810344827586206, '02'],\n",
       " [21.525, '20'],\n",
       " [16.796296296296298, '16'],\n",
       " [16.009174311926607, '21'],\n",
       " [14.741176470588234, '13'],\n",
       " [13.440677966101696, '10'],\n",
       " [13.233644859813085, '14'],\n",
       " [13.20183486238532, '18'],\n",
       " [11.46, '17'],\n",
       " [11.383333333333333, '01'],\n",
       " [11.051724137931034, '11'],\n",
       " [10.8, '19'],\n",
       " [10.25, '08'],\n",
       " [10.08695652173913, '05'],\n",
       " [9.41095890410959, '12'],\n",
       " [9.022727272727273, '06'],\n",
       " [8.127272727272727, '00'],\n",
       " [7.985294117647059, '23'],\n",
       " [7.852941176470588, '07'],\n",
       " [7.796296296296297, '03'],\n",
       " [7.170212765957447, '04'],\n",
       " [6.746478873239437, '22'],\n",
       " [5.5777777777777775, '09']]"
      ]
     },
     "execution_count": 7,
     "metadata": {},
     "output_type": "execute_result"
    }
   ],
   "source": [
    "#sorting avg_by_hour list and printing the five highest values in a format that's easier to read.\n",
    "\n",
    "swap_avg_by_hour = [] #Initialized an empty list (of lists) and assigned it to swap_avg_by_hour\n",
    "\n",
    "for row in avg_by_hour: #Iterate over the rows of avg_by_hour list\n",
    "    swap_avg_by_hour.append([row[1], row[0]])#swop element order of avg_by_hour, so 2nd element is first\n",
    "    \n",
    "print(swap_avg_by_hour) #display swopped order list\n",
    "\n",
    "sorted_swap = sorted(swap_avg_by_hour, reverse=True)#highest value in the first column appears first in the list\n",
    "\n",
    "sorted_swap #display results, high to low order, of avg amount of comments for posts: Ask HN posts by hour\n",
    "\n"
   ]
  },
  {
   "cell_type": "code",
   "execution_count": 8,
   "metadata": {
    "collapsed": false
   },
   "outputs": [
    {
     "name": "stdout",
     "output_type": "stream",
     "text": [
      "Top 5 Hours for 'Ask HN' Comments\n",
      "15:00: 38.59 average comments per post\n",
      "02:00: 23.81 average comments per post\n",
      "20:00: 21.52 average comments per post\n",
      "16:00: 16.80 average comments per post\n",
      "21:00: 16.01 average comments per post\n"
     ]
    }
   ],
   "source": [
    "# Sort the values and print the the 5 hours with the highest average comments.\n",
    "\n",
    "print(\"Top 5 Hours for 'Ask HN' Comments\")#displays the enclosed string\n",
    "\n",
    "#below iterates thru ea. hour element of first 5 rows of sorted_swap list above,\n",
    "#the first column of this list above is the avg number of comments,\n",
    "#the second column of this list is the two digit \"hour\" of the comments post\n",
    "\n",
    "for avg, hr in sorted_swap[:5]: \n",
    "    print(\n",
    "        \"{}: {:.2f} average comments per post\".format(\n",
    "            dt.datetime.strptime(hr, \"%H\").strftime(\"%H:%M\"),avg\n",
    "        )\n",
    "    )\n",
    "    \n",
    "#Note: in the loop above, the iteration variable, hr, \n",
    "#is the second element, and date_string of the sorted_swap list above.\n",
    "\n",
    "#In the second print line clause above, we are using the datetime.strptime()\n",
    "#constructor to create a datetime object from the given string of first line.\n",
    "#This datetime object then uses the strftime() method to specify the format\n",
    "#of the time.\n",
    "\n",
    "#Note: we use the str.format() method with two delimiter braces,\n",
    "#one for each element to format the sorted_swap list:\n",
    "\n",
    "#the first brace picks up the 'hr' element. So it will be formatted first.\n",
    "    \n",
    "#the second brace with argument, {:.2f}, formats the second element string,\n",
    "#number of avg comments per hour. The ':.2F' says,\n",
    "#to format no more than two decimal places:\n",
    "#So, the hour and average format,should be formatted:\n",
    "#15:00: 38.59 average comments per post.\n",
    "\n",
    "#the print clause: dt.datetime.strptime(hr,%H), avg ;  \n",
    "#says to parse and display the previously formatted string, and display,\n",
    "#the two digit 'hr' value first and then display the formatted 'avg' variable\n",
    "#value: which is the number of avg comments to two decimal places, followed\n",
    "#by the string, \"average comments per post\"."
   ]
  },
  {
   "cell_type": "markdown",
   "metadata": {},
   "source": [
    "The hour that receives the most comments per post on average is 15:00, with an average of 38.59 comments per post. There's about a 62% increase in the number of comments between the hours with the highest and second highest average number of comments.\n",
    "\n",
    "According to the data set documentation, the timezone used is Eastern Time in the US. So, we could also write 15:00 as 3:00 pm est.\n",
    "\n",
    "### Conclusion\n",
    "\n",
    "In this project, we analyzed ask posts and show posts to determine which type of post and time receive the most comments on average. Based on our analysis, to maximize the amount of comments a post receives, we'd recommend the post be categorized as ask post and created between 15:00 and 16:00 (3:00 pm est - 4:00 pm est).\n",
    "\n",
    "However, it should be noted that the data set we analyzed excluded posts without any comments. Given that, it's more accurate to say that of the posts that received comments, ask posts received more comments on average and ask posts created between 15:00 and 16:00 (3:00 pm est - 4:00 pm est) received the most comments on average.\n"
   ]
  }
 ],
 "metadata": {
  "kernelspec": {
   "display_name": "Python 3",
   "language": "python",
   "name": "python3"
  },
  "language_info": {
   "codemirror_mode": {
    "name": "ipython",
    "version": 3
   },
   "file_extension": ".py",
   "mimetype": "text/x-python",
   "name": "python",
   "nbconvert_exporter": "python",
   "pygments_lexer": "ipython3",
   "version": "3.4.3"
  }
 },
 "nbformat": 4,
 "nbformat_minor": 2
}
